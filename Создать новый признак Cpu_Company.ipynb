{
 "cells": [
  {
   "cell_type": "code",
   "execution_count": null,
   "metadata": {},
   "outputs": [],
   "source": [
    "1.1 Создать новый признак Cpu_Company, который будет содержать только название фирмы, которая произвела CPU\n",
    "1.2 Создать новый признак Memory_Amount, который будет содержать только количество Gb памяти без указания типа носителя\n",
    "1.3 Создать новый признак Memory_Type, который будет содержать только тип носителя (HDD/SDD/др.)\n",
    "1.4 Удалите признаки Memory и ScreenResolution"
   ]
  },
  {
   "cell_type": "markdown",
   "metadata": {},
   "source": [
    "def only_mem_type(x):\n",
    "    list_split = x.split()\n",
    "    result_ = []\n",
    "    for i in list_split:\n",
    "        if \"GB\" not in i and \"TB\" not in i:\n",
    "            result_.append(i)\n",
    "    result = \" \".join(result_)\n",
    "    return result\n",
    "\n",
    "13:49\n",
    "df['Memory_Type'] = df['Memory'].apply(only_mem_type)\n",
    "\n",
    "13:49\n",
    "df.drop(columns=['Memory', 'ScreenResolution'], inplace=True)"
   ]
  }
 ],
 "metadata": {
  "language_info": {
   "name": "python"
  },
  "orig_nbformat": 4
 },
 "nbformat": 4,
 "nbformat_minor": 2
}
