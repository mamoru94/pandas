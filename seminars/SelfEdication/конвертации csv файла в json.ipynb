{
 "cells": [
  {
   "cell_type": "markdown",
   "metadata": {},
   "source": [
    "Для конвертации csv файла в json в Python можно использовать модуль csv и модуль json.\n",
    "\n",
    "Вот пример кода:\n",
    "\n",
    "python\n",
    "import csv\n",
    "import json\n",
    "\n",
    "csv_file = 'file.csv'\n",
    "json_file = 'file.json'\n",
    "\n",
    "# Открываем csv файл для чтения и json файл для записи\n",
    "with open(csv_file, 'r') as file:\n",
    "    reader = csv.DictReader(file)\n",
    "    rows = list(reader)\n",
    "\n",
    "with open(json_file, 'w') as file:\n",
    "    # Записываем данные в json файл\n",
    "    json.dump(rows, file)\n",
    "\n",
    "\n",
    "В этом примере мы сначала открываем csv файл для чтения с помощью функции open(). Затем мы используем модуль csv для создания объекта DictReader, который позволяет нам читать строки из csv файла в виде словаря. Мы сохраняем эти словари в список rows.\n",
    "\n",
    "Затем мы открываем json файл для записи и используем функцию json.dump() для записи данных из списка rows в формате json.\n",
    "\n",
    "Обратите внимание, что это простой пример, и возможно, вам придется настроить его в зависимости от структуры вашего csv файла."
   ]
  },
  {
   "cell_type": "code",
   "execution_count": 19,
   "metadata": {},
   "outputs": [],
   "source": [
    "import csv\n",
    "import json\n",
    "\n",
    "csv_file = 'C:/Users/a.aleksandrov.CORP/Desktop/FQIRCAL-114.csv'.encode('unicode_escape').decode(encoding='utf-8')\n",
    "json_file = 'C:/Users/a.aleksandrov.CORP/Desktop/FQIRCAL-114.json'.encode('unicode_escape').decode(encoding='utf-8')\n",
    "\n"
   ]
  },
  {
   "cell_type": "code",
   "execution_count": 21,
   "metadata": {},
   "outputs": [],
   "source": [
    "# Открываем csv файл для чтения и json файл для записи\n",
    "with open(csv_file, 'r') as file:\n",
    "    reader = csv.DictReader(file)\n",
    "    rows = list(reader)\n",
    "with open(json_file, 'w') as file:\n",
    "    # Записываем данные в json файл\n",
    "    json.dump(rows, file)"
   ]
  },
  {
   "cell_type": "code",
   "execution_count": 33,
   "metadata": {},
   "outputs": [],
   "source": [
    "import csv\n",
    "import json\n",
    "\n",
    "# Открываем csv файл для чтения\n",
    "with open('C:/Users/a.aleksandrov.CORP/Desktop/FQIRCAL-114.csv', 'r') as csvfile:\n",
    "    # Читаем csv данные в словарь\n",
    "    reader = csv.DictReader(csvfile, delimiter=';')\n",
    "    # Создаем пустой список для хранения словарей\n",
    "    data = []\n",
    "    # Проходимся по каждой строке csv файла\n",
    "    for row in reader:\n",
    "        # Добавляем словарь с данными в список\n",
    "        data.append(row)\n",
    "\n",
    "# Конвертируем список словарей в формат json\n",
    "json_data = json.dumps(data)\n",
    "\n",
    "# Записываем json данные в файл\n",
    "with open('C:/Users/a.aleksandrov.CORP/Desktop/FQIRCAL-114.json', 'w') as jsonfile:\n",
    "    jsonfile.write(json_data)"
   ]
  }
 ],
 "metadata": {
  "kernelspec": {
   "display_name": "Python 3",
   "language": "python",
   "name": "python3"
  },
  "language_info": {
   "codemirror_mode": {
    "name": "ipython",
    "version": 3
   },
   "file_extension": ".py",
   "mimetype": "text/x-python",
   "name": "python",
   "nbconvert_exporter": "python",
   "pygments_lexer": "ipython3",
   "version": "3.11.4"
  },
  "orig_nbformat": 4
 },
 "nbformat": 4,
 "nbformat_minor": 2
}
