{
 "cells": [
  {
   "cell_type": "code",
   "execution_count": 5,
   "metadata": {},
   "outputs": [
    {
     "name": "stdout",
     "output_type": "stream",
     "text": [
      "19\n"
     ]
    }
   ],
   "source": [
    "arr = [5, 8, 6, 4, 9, 2, 7, 3]\n",
    "\n",
    "max_berries = 0\n",
    "for i in range(len(arr)):\n",
    "    if i == 0: # краевой куст справа\n",
    "        berries = arr[i] + arr[i+1]\n",
    "    elif i == len(arr)-1: # краевой куст слева\n",
    "        berries = arr[i] + arr[i-1]\n",
    "    else: # обычный куст\n",
    "        berries = arr[i] + arr[i-1] + arr[i+1]\n",
    "    if berries > max_berries:\n",
    "        max_berries = berries\n",
    "\n",
    "print(max_berries) # выводим результат"
   ]
  }
 ],
 "metadata": {
  "kernelspec": {
   "display_name": "Python 3",
   "language": "python",
   "name": "python3"
  },
  "language_info": {
   "codemirror_mode": {
    "name": "ipython",
    "version": 3
   },
   "file_extension": ".py",
   "mimetype": "text/x-python",
   "name": "python",
   "nbconvert_exporter": "python",
   "pygments_lexer": "ipython3",
   "version": "3.11.6"
  },
  "orig_nbformat": 4
 },
 "nbformat": 4,
 "nbformat_minor": 2
}
