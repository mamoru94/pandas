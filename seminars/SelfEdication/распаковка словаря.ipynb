{
 "cells": [
  {
   "cell_type": "code",
   "execution_count": 79,
   "metadata": {},
   "outputs": [
    {
     "name": "stdout",
     "output_type": "stream",
     "text": [
      "{'op': 'U', 'ts': '2023-09-25T16:03:10.422+03:00', 'NKVT': '99992509', 'NVAG': 54901715, 'DATE_DEPARTURE': '2023-09-25', 'IDE': 0, 'TEO': 0, 'TID': '19620230925160309374534', 'GKPR': 421034, 'GKPT': '220', 'KCEH': 60, 'KDSM': 1, 'KDST': 592100, 'TARF': 0.0, 'VESV': 0.0, 'TARFE': 0, 'TARFP': 0, 'VESDO': 0.0, 'TARFDL': 0, 'VOZNOP': 0, 'ST_TIME': 0, 'TARFDLP': 0, 'DATE_ARR': 0, 'COST_CONT': 0, 'NKVT_FULL': '99992509', 'RATE_CONT': 0, 'COST_TRUCK': 0, 'DATE_STAMP': '2023-09-25 16:03:00', 'RATE_TRUCK': 0, 'ROUTE_SIGN': 5, 'CLIENT_CODE': 0, 'COST_TRUCK_P': 0, 'DATE_ACCFACT': 0, 'DATE_DELIVERY': 0, 'CONTAINER_CODE': 0, 'CONTAINER_NUMBER': 0, 'DATVRM_DEPARTURE': '2023-09-25 15:59:00', 'INSIDE_INVOICE_NUMBER': 0}\n"
     ]
    }
   ],
   "source": [
    "data = [{\"op\": \"U\", \"pk\": {\"NKVT\": \"99992509\", \"NVAG\": 54901715, \"DATE_DEPARTURE\": \"2023-09-25\"}, \"ts\": \"2023-09-25T16:03:10.422+03:00\", \"data\": {\"IDE\": 0, \"TEO\": 0, \"TID\": \"19620230925160309374534\", \"GKPR\": 421034, \"GKPT\": \"220\", \"KCEH\": 60, \"KDSM\": 1, \"KDST\": 592100, \"TARF\": 0.0, \"VESV\": 0.0, \"TARFE\": 0, \"TARFP\": 0, \"VESDO\": 0.0, \"TARFDL\": 0, \"VOZNOP\": 0, \"ST_TIME\": 0, \"TARFDLP\": 0, \"DATE_ARR\": 0, \"COST_CONT\": 0, \"NKVT_FULL\": \"99992509\", \"RATE_CONT\": 0, \"COST_TRUCK\": 0, \"DATE_STAMP\": \"2023-09-25 16:03:00\", \"RATE_TRUCK\": 0, \"ROUTE_SIGN\": 5, \"CLIENT_CODE\": 0, \"COST_TRUCK_P\": 0, \"DATE_ACCFACT\": 0, \"DATE_DELIVERY\": 0, \"CONTAINER_CODE\": 0, \"CONTAINER_NUMBER\": 0, \"DATVRM_DEPARTURE\": \"2023-09-25 15:59:00\", \"INSIDE_INVOICE_NUMBER\": 0}}]\n",
    "# result = { \"op\": data[\"op\"], \"ts\": data[\"ts\"], **data[\"pk\"], **data[\"data\"]}\n",
    "# print(result)\n",
    "data = dict(data[0])\n",
    "result = { \"op\": data[\"op\"], \"ts\": data[\"ts\"], **data[\"pk\"], **data[\"data\"]}\n",
    "print(result)"
   ]
  },
  {
   "cell_type": "code",
   "execution_count": 1,
   "metadata": {},
   "outputs": [
    {
     "name": "stdout",
     "output_type": "stream",
     "text": [
      "[{'op': 'U', 'ts': '2023-09-25T16:03:10.422+03:00', 'NKVT': '99992509', 'NVAG': 54901715, 'DATE_DEPARTURE': '2023-09-25', 'IDE': 0, 'TEO': 0, 'TID': '19620230925160309374534', 'GKPR': 421034, 'GKPT': '220', 'KCEH': 60, 'KDSM': 1, 'KDST': 592100, 'TARF': 0.0, 'VESV': 0.0, 'TARFE': 0, 'TARFP': 0, 'VESDO': 0.0, 'TARFDL': 0, 'VOZNOP': 0, 'ST_TIME': 0, 'TARFDLP': 0, 'DATE_ARR': 0, 'COST_CONT': 0, 'NKVT_FULL': '99992509', 'RATE_CONT': 0, 'COST_TRUCK': 0, 'DATE_STAMP': '2023-09-25 16:03:00', 'RATE_TRUCK': 0, 'ROUTE_SIGN': 5, 'CLIENT_CODE': 0, 'COST_TRUCK_P': 0, 'DATE_ACCFACT': 0, 'DATE_DELIVERY': 0, 'CONTAINER_CODE': 0, 'CONTAINER_NUMBER': 0, 'DATVRM_DEPARTURE': '2023-09-25 15:59:00', 'INSIDE_INVOICE_NUMBER': 0}]\n"
     ]
    }
   ],
   "source": [
    "data = {\"op\": \"U\", \"pk\": {\"NKVT\": \"99992509\", \"NVAG\": 54901715, \"DATE_DEPARTURE\": \"2023-09-25\"}, \"ts\": \"2023-09-25T16:03:10.422+03:00\", \"data\": {\"IDE\": 0, \"TEO\": 0, \"TID\": \"19620230925160309374534\", \"GKPR\": 421034, \"GKPT\": \"220\", \"KCEH\": 60, \"KDSM\": 1, \"KDST\": 592100, \"TARF\": 0.0, \"VESV\": 0.0, \"TARFE\": 0, \"TARFP\": 0, \"VESDO\": 0.0, \"TARFDL\": 0, \"VOZNOP\": 0, \"ST_TIME\": 0, \"TARFDLP\": 0, \"DATE_ARR\": 0, \"COST_CONT\": 0, \"NKVT_FULL\": \"99992509\", \"RATE_CONT\": 0, \"COST_TRUCK\": 0, \"DATE_STAMP\": \"2023-09-25 16:03:00\", \"RATE_TRUCK\": 0, \"ROUTE_SIGN\": 5, \"CLIENT_CODE\": 0, \"COST_TRUCK_P\": 0, \"DATE_ACCFACT\": 0, \"DATE_DELIVERY\": 0, \"CONTAINER_CODE\": 0, \"CONTAINER_NUMBER\": 0, \"DATVRM_DEPARTURE\": \"2023-09-25 15:59:00\", \"INSIDE_INVOICE_NUMBER\": 0}}\n",
    "result = [{ \"op\": data[\"op\"], \"ts\": data[\"ts\"], **data[\"pk\"], **data[\"data\"]}]\n",
    "print(result)"
   ]
  },
  {
   "cell_type": "code",
   "execution_count": 10,
   "metadata": {},
   "outputs": [
    {
     "ename": "SyntaxError",
     "evalue": "ОШИБКА:  ошибка синтаксиса (примерное положение: \"select\")\nLINE 1: create table mytable (name, age) select ('John', 25)\n                                         ^\n",
     "output_type": "error",
     "traceback": [
      "\u001b[1;31m---------------------------------------------------------------------------\u001b[0m",
      "\u001b[1;31mSyntaxError\u001b[0m                               Traceback (most recent call last)",
      "\u001b[1;32mc:\\Users\\a.aleksandrov.CORP\\Documents\\GitHub\\gb\\seminars\\SelfEdication\\распаковка словаря.ipynb Cell 3\u001b[0m line \u001b[0;36m1\n\u001b[0;32m     <a href='vscode-notebook-cell:/c%3A/Users/a.aleksandrov.CORP/Documents/GitHub/gb/seminars/SelfEdication/%D1%80%D0%B0%D1%81%D0%BF%D0%B0%D0%BA%D0%BE%D0%B2%D0%BA%D0%B0%20%D1%81%D0%BB%D0%BE%D0%B2%D0%B0%D1%80%D1%8F.ipynb#W3sZmlsZQ%3D%3D?line=9'>10</a>\u001b[0m \u001b[39m# вставляем данные в таблицу mytable\u001b[39;00m\n\u001b[0;32m     <a href='vscode-notebook-cell:/c%3A/Users/a.aleksandrov.CORP/Documents/GitHub/gb/seminars/SelfEdication/%D1%80%D0%B0%D1%81%D0%BF%D0%B0%D0%BA%D0%BE%D0%B2%D0%BA%D0%B0%20%D1%81%D0%BB%D0%BE%D0%B2%D0%B0%D1%80%D1%8F.ipynb#W3sZmlsZQ%3D%3D?line=10'>11</a>\u001b[0m \u001b[39mfor\u001b[39;00m item \u001b[39min\u001b[39;00m data:\n\u001b[1;32m---> <a href='vscode-notebook-cell:/c%3A/Users/a.aleksandrov.CORP/Documents/GitHub/gb/seminars/SelfEdication/%D1%80%D0%B0%D1%81%D0%BF%D0%B0%D0%BA%D0%BE%D0%B2%D0%BA%D0%B0%20%D1%81%D0%BB%D0%BE%D0%B2%D0%B0%D1%80%D1%8F.ipynb#W3sZmlsZQ%3D%3D?line=11'>12</a>\u001b[0m     cursor\u001b[39m.\u001b[39;49mexecute(\u001b[39m\"\u001b[39;49m\u001b[39mcreate table mytable (name, age) select (\u001b[39;49m\u001b[39m%s\u001b[39;49;00m\u001b[39m, \u001b[39;49m\u001b[39m%s\u001b[39;49;00m\u001b[39m)\u001b[39;49m\u001b[39m\"\u001b[39;49m, (item[\u001b[39m'\u001b[39;49m\u001b[39mname\u001b[39;49m\u001b[39m'\u001b[39;49m], item[\u001b[39m'\u001b[39;49m\u001b[39mage\u001b[39;49m\u001b[39m'\u001b[39;49m]))\n\u001b[0;32m     <a href='vscode-notebook-cell:/c%3A/Users/a.aleksandrov.CORP/Documents/GitHub/gb/seminars/SelfEdication/%D1%80%D0%B0%D1%81%D0%BF%D0%B0%D0%BA%D0%BE%D0%B2%D0%BA%D0%B0%20%D1%81%D0%BB%D0%BE%D0%B2%D0%B0%D1%80%D1%8F.ipynb#W3sZmlsZQ%3D%3D?line=13'>14</a>\u001b[0m \u001b[39m# сохраняем изменения в базе данных\u001b[39;00m\n\u001b[0;32m     <a href='vscode-notebook-cell:/c%3A/Users/a.aleksandrov.CORP/Documents/GitHub/gb/seminars/SelfEdication/%D1%80%D0%B0%D1%81%D0%BF%D0%B0%D0%BA%D0%BE%D0%B2%D0%BA%D0%B0%20%D1%81%D0%BB%D0%BE%D0%B2%D0%B0%D1%80%D1%8F.ipynb#W3sZmlsZQ%3D%3D?line=14'>15</a>\u001b[0m conn\u001b[39m.\u001b[39mcommit()\n",
      "\u001b[1;31mSyntaxError\u001b[0m: ОШИБКА:  ошибка синтаксиса (примерное положение: \"select\")\nLINE 1: create table mytable (name, age) select ('John', 25)\n                                         ^\n"
     ]
    }
   ],
   "source": [
    "import psycopg2\n",
    "\n",
    "# устанавливаем соединение с базой данных\n",
    "conn = psycopg2.connect(database=\"etl\", user=\"etl\", password=\"password\", host=\"localhost\", port=\"5432\")\n",
    "cursor = conn.cursor()\n",
    "\n",
    "# предполагаем, что data - это список словарей с ключами name и age\n",
    "data = [{'name': 'John', 'age': 25}, {'name': 'Jane', 'age': 30}, {'name': 'Bob', 'age': 40}]\n",
    "\n",
    "# вставляем данные в таблицу mytable\n",
    "for item in data:\n",
    "    cursor.execute(\"INSERT INTO mytable (name, age) VALUES (%s, %s)\", (item['name'], item['age']))\n",
    "\n",
    "# сохраняем изменения в базе данных\n",
    "conn.commit()\n",
    "\n",
    "# закрываем соединение\n",
    "cursor.close()\n",
    "conn.close()"
   ]
  },
  {
   "cell_type": "code",
   "execution_count": 12,
   "metadata": {},
   "outputs": [
    {
     "name": "stdout",
     "output_type": "stream",
     "text": [
      "['op', 'ts', 'NKVT', 'NVAG', 'DATE_DEPARTURE', 'IDE', 'TEO', 'TID', 'GKPR', 'GKPT', 'KCEH', 'KDSM', 'KDST', 'TARF', 'VESV', 'TARFE', 'TARFP', 'VESDO', 'TARFDL', 'VOZNOP', 'ST_TIME', 'TARFDLP', 'DATE_ARR', 'COST_CONT', 'NKVT_FULL', 'RATE_CONT', 'COST_TRUCK', 'DATE_STAMP', 'RATE_TRUCK', 'ROUTE_SIGN', 'CLIENT_CODE', 'COST_TRUCK_P', 'DATE_ACCFACT', 'DATE_DELIVERY', 'CONTAINER_CODE', 'CONTAINER_NUMBER', 'DATVRM_DEPARTURE', 'INSIDE_INVOICE_NUMBER']\n"
     ]
    }
   ],
   "source": [
    "data = {\"op\": \"U\", \"pk\": {\"NKVT\": \"99992509\", \"NVAG\": 54901715, \"DATE_DEPARTURE\": \"2023-09-25\"}, \"ts\": \"2023-09-25T16:03:10.422+03:00\", \"data\": {\"IDE\": 0, \"TEO\": 0, \"TID\": \"19620230925160309374534\", \"GKPR\": 421034, \"GKPT\": \"220\", \"KCEH\": 60, \"KDSM\": 1, \"KDST\": 592100, \"TARF\": 0.0, \"VESV\": 0.0, \"TARFE\": 0, \"TARFP\": 0, \"VESDO\": 0.0, \"TARFDL\": 0, \"VOZNOP\": 0, \"ST_TIME\": 0, \"TARFDLP\": 0, \"DATE_ARR\": 0, \"COST_CONT\": 0, \"NKVT_FULL\": \"99992509\", \"RATE_CONT\": 0, \"COST_TRUCK\": 0, \"DATE_STAMP\": \"2023-09-25 16:03:00\", \"RATE_TRUCK\": 0, \"ROUTE_SIGN\": 5, \"CLIENT_CODE\": 0, \"COST_TRUCK_P\": 0, \"DATE_ACCFACT\": 0, \"DATE_DELIVERY\": 0, \"CONTAINER_CODE\": 0, \"CONTAINER_NUMBER\": 0, \"DATVRM_DEPARTURE\": \"2023-09-25 15:59:00\", \"INSIDE_INVOICE_NUMBER\": 0}}\n",
    "result = { \"op\": data[\"op\"], \"ts\": data[\"ts\"], **data[\"pk\"], **data[\"data\"]}\n",
    "keys = list(result.keys())\n",
    "print(keys)\n",
    "    "
   ]
  },
  {
   "cell_type": "code",
   "execution_count": 14,
   "metadata": {},
   "outputs": [
    {
     "name": "stdout",
     "output_type": "stream",
     "text": [
      "['U', '2023-09-25T16:03:10.422+03:00', '99992509', 54901715, '2023-09-25', 0, 0, '19620230925160309374534', 421034, '220', 60, 1, 592100, 0.0, 0.0, 0, 0, 0.0, 0, 0, 0, 0, 0, 0, '99992509', 0, 0, '2023-09-25 16:03:00', 0, 5, 0, 0, 0, 0, 0, 0, '2023-09-25 15:59:00', 0]\n"
     ]
    }
   ],
   "source": [
    "data = {\"op\": \"U\", \"pk\": {\"NKVT\": \"99992509\", \"NVAG\": 54901715, \"DATE_DEPARTURE\": \"2023-09-25\"}, \"ts\": \"2023-09-25T16:03:10.422+03:00\", \"data\": {\"IDE\": 0, \"TEO\": 0, \"TID\": \"19620230925160309374534\", \"GKPR\": 421034, \"GKPT\": \"220\", \"KCEH\": 60, \"KDSM\": 1, \"KDST\": 592100, \"TARF\": 0.0, \"VESV\": 0.0, \"TARFE\": 0, \"TARFP\": 0, \"VESDO\": 0.0, \"TARFDL\": 0, \"VOZNOP\": 0, \"ST_TIME\": 0, \"TARFDLP\": 0, \"DATE_ARR\": 0, \"COST_CONT\": 0, \"NKVT_FULL\": \"99992509\", \"RATE_CONT\": 0, \"COST_TRUCK\": 0, \"DATE_STAMP\": \"2023-09-25 16:03:00\", \"RATE_TRUCK\": 0, \"ROUTE_SIGN\": 5, \"CLIENT_CODE\": 0, \"COST_TRUCK_P\": 0, \"DATE_ACCFACT\": 0, \"DATE_DELIVERY\": 0, \"CONTAINER_CODE\": 0, \"CONTAINER_NUMBER\": 0, \"DATVRM_DEPARTURE\": \"2023-09-25 15:59:00\", \"INSIDE_INVOICE_NUMBER\": 0}}\n",
    "result = { \"op\": data[\"op\"], \"ts\": data[\"ts\"], **data[\"pk\"], **data[\"data\"]}\n",
    "value = list(result.values())\n",
    "print(value)"
   ]
  },
  {
   "cell_type": "code",
   "execution_count": 17,
   "metadata": {},
   "outputs": [
    {
     "name": "stdout",
     "output_type": "stream",
     "text": [
      "['message']\n"
     ]
    }
   ],
   "source": [
    "import psycopg2\n",
    "\n",
    "# устанавливаем соединение с базой данных\n",
    "conn = psycopg2.connect(database=\"etl\", user=\"etl\", password=\"password\", host=\"localhost\", port=\"5432\")\n",
    "curs = conn.cursor()\n",
    "curs.execute(\"Select message FROM etl.kafka LIMIT 0\")\n",
    "colnames = [desc[0] for desc in curs.description]\n",
    "print(colnames)"
   ]
  },
  {
   "cell_type": "code",
   "execution_count": 33,
   "metadata": {},
   "outputs": [
    {
     "name": "stdout",
     "output_type": "stream",
     "text": [
      "[{'op': 'U', 'pk': {'NKVT': '99992509', 'NVAG': 54901715, 'DATE_DEPARTURE': '2023-09-25'}, 'ts': '2023-09-25T16:03:10.422+03:00', 'data': {'IDE': 0, 'TEO': None, 'TID': '19620230925160309374534', 'GKPR': 421034, 'GKPT': '220', 'KCEH': 60, 'KDSM': 1, 'KDST': 592100, 'TARF': 0.0, 'VESV': 0.0, 'TARFE': None, 'TARFP': None, 'VESDO': 0.0, 'TARFDL': None, 'VOZNOP': None, 'ST_TIME': None, 'TARFDLP': None, 'DATE_ARR': None, 'COST_CONT': None, 'NKVT_FULL': '99992509', 'RATE_CONT': None, 'COST_TRUCK': None, 'DATE_STAMP': '2023-09-25 16:03:00', 'RATE_TRUCK': None, 'ROUTE_SIGN': 5, 'CLIENT_CODE': None, 'COST_TRUCK_P': None, 'DATE_ACCFACT': None, 'DATE_DELIVERY': None, 'CONTAINER_CODE': None, 'CONTAINER_NUMBER': None, 'DATVRM_DEPARTURE': '2023-09-25 15:59:00', 'INSIDE_INVOICE_NUMBER': None}}, {'op': 'D', 'pk': {'NKVT': '854038', 'NVAG': 55145163, 'DATE_DEPARTURE': '2023-09-17'}, 'ts': '2023-09-25T16:31:05.036+03:00', 'data': None}, {'op': 'I', 'pk': {'NKVT': '294003', 'NVAG': 56261993, 'DATE_DEPARTURE': '2023-09-25'}, 'ts': '2023-09-25T16:39:36.278+03:00', 'data': {'IDE': 0, 'TEO': None, 'TID': '19620230925163936374549', 'GKPR': 324169, 'GKPT': '24512704', 'KCEH': 12, 'KDSM': 1, 'KDST': 255607, 'TARF': 147919.0, 'VESV': 66.01, 'TARFE': None, 'TARFP': None, 'VESDO': 0.0, 'TARFDL': None, 'VOZNOP': None, 'ST_TIME': None, 'TARFDLP': None, 'DATE_ARR': None, 'COST_CONT': None, 'NKVT_FULL': 'ЭО294003', 'RATE_CONT': None, 'COST_TRUCK': None, 'DATE_STAMP': '2023-09-25 16:07:00', 'RATE_TRUCK': None, 'ROUTE_SIGN': None, 'CLIENT_CODE': None, 'COST_TRUCK_P': None, 'DATE_ACCFACT': '2023-09-25 16:07:39', 'DATE_DELIVERY': None, 'CONTAINER_CODE': None, 'CONTAINER_NUMBER': None, 'DATVRM_DEPARTURE': '2023-09-25 11:19:00', 'INSIDE_INVOICE_NUMBER': 7719403}}, {'op': 'I', 'pk': {'NKVT': '293945', 'NVAG': 55493118, 'DATE_DEPARTURE': '2023-09-25'}, 'ts': '2023-09-25T16:40:57.565+03:00', 'data': {'IDE': 0, 'TEO': None, 'TID': '19620230925164057374555', 'GKPR': 324169, 'GKPT': '38385505', 'KCEH': 13, 'KDSM': 1, 'KDST': 194300, 'TARF': 75121.0, 'VESV': 44.32, 'TARFE': None, 'TARFP': None, 'VESDO': 3.4, 'TARFDL': None, 'VOZNOP': None, 'ST_TIME': None, 'TARFDLP': None, 'DATE_ARR': None, 'COST_CONT': None, 'NKVT_FULL': 'ЭО293945', 'RATE_CONT': None, 'COST_TRUCK': None, 'DATE_STAMP': '2023-09-25 16:11:00', 'RATE_TRUCK': None, 'ROUTE_SIGN': None, 'CLIENT_CODE': None, 'COST_TRUCK_P': None, 'DATE_ACCFACT': '2023-09-25 16:11:26', 'DATE_DELIVERY': None, 'CONTAINER_CODE': None, 'CONTAINER_NUMBER': None, 'DATVRM_DEPARTURE': '2023-09-25 11:19:00', 'INSIDE_INVOICE_NUMBER': 7718565}}, {'op': 'U', 'pk': {'NKVT': '271075', 'NVAG': 52473386, 'DATE_DEPARTURE': '2023-09-25'}, 'ts': '2023-09-25T16:41:13.164+03:00', 'data': {'IDE': 0, 'TEO': None, 'TID': '19620230925112629372634', 'GKPR': 314078, 'GKPT': '1126453', 'KCEH': 7, 'KDSM': 1, 'KDST': 35902, 'TARF': 151732.0, 'VESV': 49.92, 'TARFE': None, 'TARFP': None, 'VESDO': 0.0, 'TARFDL': None, 'VOZNOP': None, 'ST_TIME': None, 'TARFDLP': None, 'DATE_ARR': None, 'COST_CONT': None, 'NKVT_FULL': 'ЭО271075', 'RATE_CONT': None, 'COST_TRUCK': None, 'DATE_STAMP': '2023-09-25 10:04:00', 'RATE_TRUCK': None, 'ROUTE_SIGN': 1, 'CLIENT_CODE': None, 'COST_TRUCK_P': None, 'DATE_ACCFACT': '2023-09-25 10:04:09', 'DATE_DELIVERY': None, 'CONTAINER_CODE': None, 'CONTAINER_NUMBER': None, 'DATVRM_DEPARTURE': '2023-09-25 08:00:00', 'INSIDE_INVOICE_NUMBER': 7720299}}, {'op': 'U', 'pk': {'NKVT': '271074', 'NVAG': 53099321, 'DATE_DEPARTURE': '2023-09-25'}, 'ts': '2023-09-25T16:41:13.571+03:00', 'data': {'IDE': 0, 'TEO': None, 'TID': '19620230925112315372532', 'GKPR': 314078, 'GKPT': '1126453', 'KCEH': 7, 'KDSM': 1, 'KDST': 35902, 'TARF': 151153.0, 'VESV': 53.54, 'TARFE': None, 'TARFP': None, 'VESDO': 0.0, 'TARFDL': None, 'VOZNOP': None, 'ST_TIME': None, 'TARFDLP': None, 'DATE_ARR': None, 'COST_CONT': None, 'NKVT_FULL': 'ЭО271074', 'RATE_CONT': None, 'COST_TRUCK': None, 'DATE_STAMP': '2023-09-25 10:09:00', 'RATE_TRUCK': None, 'ROUTE_SIGN': 1, 'CLIENT_CODE': None, 'COST_TRUCK_P': None, 'DATE_ACCFACT': '2023-09-25 10:09:03', 'DATE_DELIVERY': None, 'CONTAINER_CODE': None, 'CONTAINER_NUMBER': None, 'DATVRM_DEPARTURE': '2023-09-25 08:00:00', 'INSIDE_INVOICE_NUMBER': 7719943}}, {'op': 'U', 'pk': {'NKVT': '271076', 'NVAG': 54398532, 'DATE_DEPARTURE': '2023-09-25'}, 'ts': '2023-09-25T16:41:14.301+03:00', 'data': {'IDE': 0, 'TEO': None, 'TID': '19620230925112241372523', 'GKPR': 314078, 'GKPT': '1126453', 'KCEH': 7, 'KDSM': 1, 'KDST': 35902, 'TARF': 151732.0, 'VESV': 53.54, 'TARFE': None, 'TARFP': None, 'VESDO': 0.0, 'TARFDL': None, 'VOZNOP': None, 'ST_TIME': None, 'TARFDLP': None, 'DATE_ARR': None, 'COST_CONT': None, 'NKVT_FULL': 'ЭО271076', 'RATE_CONT': None, 'COST_TRUCK': None, 'DATE_STAMP': '2023-09-25 10:10:00', 'RATE_TRUCK': None, 'ROUTE_SIGN': 1, 'CLIENT_CODE': None, 'COST_TRUCK_P': None, 'DATE_ACCFACT': '2023-09-25 10:10:35', 'DATE_DELIVERY': None, 'CONTAINER_CODE': None, 'CONTAINER_NUMBER': None, 'DATVRM_DEPARTURE': '2023-09-25 08:00:00', 'INSIDE_INVOICE_NUMBER': 7719946}}, {'op': 'U', 'pk': {'NKVT': '271075', 'NVAG': 55141774, 'DATE_DEPARTURE': '2023-09-25'}, 'ts': '2023-09-25T16:41:15.561+03:00', 'data': {'IDE': 0, 'TEO': None, 'TID': '19620230925112646372649', 'GKPR': 314078, 'GKPT': '1126453', 'KCEH': 7, 'KDSM': 1, 'KDST': 35902, 'TARF': 151732.0, 'VESV': 49.8, 'TARFE': None, 'TARFP': None, 'VESDO': 0.0, 'TARFDL': None, 'VOZNOP': None, 'ST_TIME': None, 'TARFDLP': None, 'DATE_ARR': None, 'COST_CONT': None, 'NKVT_FULL': 'ЭО271075', 'RATE_CONT': None, 'COST_TRUCK': None, 'DATE_STAMP': '2023-09-25 10:04:00', 'RATE_TRUCK': None, 'ROUTE_SIGN': 1, 'CLIENT_CODE': None, 'COST_TRUCK_P': None, 'DATE_ACCFACT': '2023-09-25 10:04:09', 'DATE_DELIVERY': None, 'CONTAINER_CODE': None, 'CONTAINER_NUMBER': None, 'DATVRM_DEPARTURE': '2023-09-25 08:00:00', 'INSIDE_INVOICE_NUMBER': 7720294}}, {'op': 'D', 'pk': {'NKVT': '304319', 'NVAG': 54879127, 'DATE_DEPARTURE': '2023-09-25'}, 'ts': '2023-09-25T15:59:16.414+03:00', 'data': None}, {'op': 'D', 'pk': {'NKVT': '304315', 'NVAG': 60540705, 'DATE_DEPARTURE': '2023-09-25'}, 'ts': '2023-09-25T15:59:16.752+03:00', 'data': None}]\n"
     ]
    }
   ],
   "source": [
    "import psycopg2\n",
    "\n",
    "def return_message():\n",
    "    try:\n",
    "        # Подключение к базе данных\n",
    "        conn = psycopg2.connect(database=\"etl\", user=\"etl\", password=\"password\", host=\"localhost\", port=\"5432\")\n",
    "\n",
    "        # Создание курсора\n",
    "        cur = conn.cursor()\n",
    "\n",
    "        # Выполнение запроса на выборку данных\n",
    "        cur.execute(\"SELECT message FROM etl.kafka\")\n",
    "\n",
    "        # Извлечение данных\n",
    "        rows = cur.fetchall()\n",
    "\n",
    "        # Закрытие курсора и соединения с базой данных\n",
    "        cur.close()\n",
    "        conn.close()\n",
    "\n",
    "        # Обработка данных\n",
    "        messages = []\n",
    "        for row in rows:\n",
    "            messages.append(row[0])\n",
    "        return messages\n",
    "\n",
    "    except (Exception, psycopg2.DatabaseError) as error:\n",
    "        print(error)\n",
    "        if conn is not None:\n",
    "            conn.rollback()\n",
    "            conn.close()\n",
    "\n",
    "messages = return_message()\n",
    "print(messages)"
   ]
  },
  {
   "cell_type": "code",
   "execution_count": 85,
   "metadata": {},
   "outputs": [
    {
     "name": "stdout",
     "output_type": "stream",
     "text": [
      "{'op': 'D', 'pk': {'NKVT': '304315', 'NVAG': 60540705, 'DATE_DEPARTURE': '2023-09-25'}, 'ts': '2023-09-25T15:59:16.752+03:00', 'data': None}\n"
     ]
    }
   ],
   "source": [
    "import psycopg2\n",
    "return_message()\n",
    "#data = dict(messages[0])\n",
    "#result = { \"op\": data[\"op\"], \"ts\": data[\"ts\"], **data[\"pk\"], **data[\"data\"]}\n",
    "#print(result)\n",
    "data=return_message()\n",
    "dct = {}\n",
    "for item in data:\n",
    "    dct.update(item)\n",
    "print(dct)"
   ]
  },
  {
   "cell_type": "code",
   "execution_count": 83,
   "metadata": {},
   "outputs": [
    {
     "ename": "ModuleNotFoundError",
     "evalue": "No module named 'return_message'",
     "output_type": "error",
     "traceback": [
      "\u001b[1;31m---------------------------------------------------------------------------\u001b[0m",
      "\u001b[1;31mModuleNotFoundError\u001b[0m                       Traceback (most recent call last)",
      "\u001b[1;32mc:\\Users\\a.aleksandrov.CORP\\Documents\\GitHub\\gb\\seminars\\SelfEdication\\распаковка словаря.ipynb Cell 9\u001b[0m line \u001b[0;36m2\n\u001b[0;32m      <a href='vscode-notebook-cell:/c%3A/Users/a.aleksandrov.CORP/Documents/GitHub/gb/seminars/SelfEdication/%D1%80%D0%B0%D1%81%D0%BF%D0%B0%D0%BA%D0%BE%D0%B2%D0%BA%D0%B0%20%D1%81%D0%BB%D0%BE%D0%B2%D0%B0%D1%80%D1%8F.ipynb#X16sZmlsZQ%3D%3D?line=0'>1</a>\u001b[0m \u001b[39mimport\u001b[39;00m \u001b[39mpsycopg2\u001b[39;00m\n\u001b[1;32m----> <a href='vscode-notebook-cell:/c%3A/Users/a.aleksandrov.CORP/Documents/GitHub/gb/seminars/SelfEdication/%D1%80%D0%B0%D1%81%D0%BF%D0%B0%D0%BA%D0%BE%D0%B2%D0%BA%D0%B0%20%D1%81%D0%BB%D0%BE%D0%B2%D0%B0%D1%80%D1%8F.ipynb#X16sZmlsZQ%3D%3D?line=1'>2</a>\u001b[0m \u001b[39mimport\u001b[39;00m \u001b[39mreturn_message\u001b[39;00m\n\u001b[0;32m      <a href='vscode-notebook-cell:/c%3A/Users/a.aleksandrov.CORP/Documents/GitHub/gb/seminars/SelfEdication/%D1%80%D0%B0%D1%81%D0%BF%D0%B0%D0%BA%D0%BE%D0%B2%D0%BA%D0%B0%20%D1%81%D0%BB%D0%BE%D0%B2%D0%B0%D1%80%D1%8F.ipynb#X16sZmlsZQ%3D%3D?line=2'>3</a>\u001b[0m \u001b[39m# Пример данных\u001b[39;00m\n\u001b[0;32m      <a href='vscode-notebook-cell:/c%3A/Users/a.aleksandrov.CORP/Documents/GitHub/gb/seminars/SelfEdication/%D1%80%D0%B0%D1%81%D0%BF%D0%B0%D0%BA%D0%BE%D0%B2%D0%BA%D0%B0%20%D1%81%D0%BB%D0%BE%D0%B2%D0%B0%D1%80%D1%8F.ipynb#X16sZmlsZQ%3D%3D?line=3'>4</a>\u001b[0m return_message()\n",
      "\u001b[1;31mModuleNotFoundError\u001b[0m: No module named 'return_message'"
     ]
    }
   ],
   "source": [
    "import psycopg2\n",
    "import return_message\n",
    "# Пример данных\n",
    "return_message()\n",
    "data = dict(messages[0])\n",
    "# Получение списка ключей из словаря result\n",
    "result = { \"op\": data[\"op\"], \"ts\": data[\"ts\"], **data[\"pk\"], **data[\"data\"]}\n",
    "keys = list(result.keys())\n",
    "value = list(result.values())\n",
    "# Подключение к базе данных\n",
    "conn = psycopg2.connect(database=\"etl\", user=\"etl\", password=\"password\", host=\"localhost\", port=\"5432\")\n",
    "\n",
    "# Создание курсора\n",
    "cur = conn.cursor()\n",
    "\n",
    "# Формирование строки для запроса на создание таблицы\n",
    "columns = \", \".join([f\"{key} TEXT\" for key in keys])\n",
    "# Формирование строки для запроса на insert таблицы\n",
    "db_value = \", \".join([f\"'{values}'::TEXT\" for values in value])\n",
    "columns_for_insert = \", \".join([f\"{key}\" for key in keys])\n",
    "# query\n",
    "drop_table_query = f\"DROP TABLE etl.testtest CASCADE;\"\n",
    "create_table_query = f\"CREATE TABLE IF NOT EXISTS etl.testtest ({columns});\"\n",
    "insert_table_query = f\"INSERT INTO etl.testtest ({columns_for_insert}) VALUES ({db_value});\"\n",
    "# Выполнение запроса\n",
    "cur.execute(drop_table_query)\n",
    "cur.execute(create_table_query)\n",
    "cur.execute(insert_table_query)\n",
    "# сохранение изменений в базе данных\n",
    "conn.commit()\n",
    "# Закрытие курсора и соединения\n",
    "cur.close()\n",
    "conn.close()"
   ]
  },
  {
   "cell_type": "code",
   "execution_count": null,
   "metadata": {},
   "outputs": [],
   "source": [
    "lst = ['a', 1, 'b', 2, 'c', 3]\n",
    "print(Convert(lst))"
   ]
  }
 ],
 "metadata": {
  "kernelspec": {
   "display_name": "Python 3",
   "language": "python",
   "name": "python3"
  },
  "language_info": {
   "codemirror_mode": {
    "name": "ipython",
    "version": 3
   },
   "file_extension": ".py",
   "mimetype": "text/x-python",
   "name": "python",
   "nbconvert_exporter": "python",
   "pygments_lexer": "ipython3",
   "version": "3.11.6"
  }
 },
 "nbformat": 4,
 "nbformat_minor": 2
}
