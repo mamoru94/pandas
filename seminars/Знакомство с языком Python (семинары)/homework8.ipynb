{
 "cells": [
  {
   "cell_type": "code",
   "execution_count": 13,
   "metadata": {},
   "outputs": [
    {
     "name": "stdout",
     "output_type": "stream",
     "text": [
      "     Имя  Фамилия    Телефон\n",
      "0   Иван   Иванов  111-11-11\n",
      "1  Мария  Петрова  222-22-22\n",
      "2   Петр  Сидоров  333-33-33\n"
     ]
    }
   ],
   "source": [
    "import pandas as pd\n",
    "\n",
    "# создаем DataFrame с данными о контактах\n",
    "contacts = pd.DataFrame({\n",
    "    'Имя': ['Иван', 'Мария', 'Петр'],\n",
    "    'Фамилия': ['Иванов', 'Петрова', 'Сидоров'],\n",
    "    'Телефон': ['111-11-11', '222-22-22', '333-33-33']\n",
    "})\n",
    "# функция для добавления нового контакта\n",
    "def add_contact(contacts, name, surname, phone):\n",
    "    new_contact = pd.DataFrame({'Имя': [name], 'Фамилия': [surname], 'Телефон': [phone]})\n",
    "    contacts = pd.concat([contacts, new_contact], ignore_index=True)\n",
    "    return contacts\n",
    "\n",
    "# функция для изменения данных\n",
    "def edit_contact(contacts, name, surname, new_phone):\n",
    "    mask = (contacts['Имя'] == name) & (contacts['Фамилия'] == surname)\n",
    "    contacts.loc[mask, 'Телефон'] = new_phone\n",
    "\n",
    "# функция для удаления данных\n",
    "def delete_contact(contacts, name, surname):\n",
    "    mask = (contacts['Имя'] == name) & (contacts['Фамилия'] == surname)\n",
    "    contacts.drop(index=contacts[mask].index, inplace=True)\n",
    "    \n",
    "# пример использования функций\n",
    "print(contacts)"
   ]
  },
  {
   "cell_type": "code",
   "execution_count": 14,
   "metadata": {},
   "outputs": [
    {
     "name": "stdout",
     "output_type": "stream",
     "text": [
      "     Имя   Фамилия    Телефон\n",
      "0   Иван    Иванов  111-11-11\n",
      "1  Мария   Петрова  222-22-22\n",
      "2   Петр   Сидоров  333-33-33\n",
      "3   Анна  Смирнова  555-55-55\n"
     ]
    }
   ],
   "source": [
    "contacts = add_contact(contacts, 'Анна', 'Смирнова', '555-55-55')\n",
    "print(contacts)"
   ]
  },
  {
   "cell_type": "code",
   "execution_count": 16,
   "metadata": {},
   "outputs": [
    {
     "name": "stdout",
     "output_type": "stream",
     "text": [
      "     Имя   Фамилия    Телефон\n",
      "0   Иван    Иванов  111-11-11\n",
      "1  Мария   Петрова  222-22-22\n",
      "2   Петр   Сидоров  333-33-33\n",
      "3   Анна  Смирнова  432-55-55\n"
     ]
    }
   ],
   "source": [
    "# пример использования функций\n",
    "edit_contact(contacts, 'Анна', 'Смирнова', '432-55-55')\n",
    "print(contacts)"
   ]
  },
  {
   "cell_type": "code",
   "execution_count": 17,
   "metadata": {},
   "outputs": [
    {
     "name": "stdout",
     "output_type": "stream",
     "text": [
      "     Имя  Фамилия    Телефон\n",
      "0   Иван   Иванов  111-11-11\n",
      "1  Мария  Петрова  222-22-22\n",
      "2   Петр  Сидоров  333-33-33\n"
     ]
    }
   ],
   "source": [
    "delete_contact(contacts, 'Анна', 'Смирнова')\n",
    "print(contacts)"
   ]
  }
 ],
 "metadata": {
  "kernelspec": {
   "display_name": "Python 3",
   "language": "python",
   "name": "python3"
  },
  "language_info": {
   "codemirror_mode": {
    "name": "ipython",
    "version": 3
   },
   "file_extension": ".py",
   "mimetype": "text/x-python",
   "name": "python",
   "nbconvert_exporter": "python",
   "pygments_lexer": "ipython3",
   "version": "3.11.6"
  }
 },
 "nbformat": 4,
 "nbformat_minor": 2
}
