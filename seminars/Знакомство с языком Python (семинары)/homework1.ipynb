{
 "cells": [
  {
   "cell_type": "markdown",
   "metadata": {},
   "source": [
    "# Найдите сумму цифр трехзначного числа n.\n",
    "# Результат сохраните в перменную res.\n",
    "# done\n",
    "# Пример:\n",
    "# n = 123 -> res = 6 (1 + 2 + 3)\n",
    "# n = 100 -> res = 1 (1 + 0 + 0)"
   ]
  },
  {
   "cell_type": "code",
   "execution_count": 1,
   "metadata": {},
   "outputs": [
    {
     "name": "stdout",
     "output_type": "stream",
     "text": [
      "6\n"
     ]
    }
   ],
   "source": [
    "n = 123\n",
    "res = (n // 100) + ((n // 10) % 10) + (n % 10)\n",
    "print(res) # выводит 18 (5 + 6 + 7)"
   ]
  },
  {
   "cell_type": "markdown",
   "metadata": {},
   "source": [
    "# python\n",
    "# Бумажные журавлики\n",
    "# Петя, Катя и Сережа делают из бумаги журавликов. Вместе они сделали n журавликов.\n",
    "# Сколько журавликов сделал каждый ребенок, если известно, что Петя и Сережа сделали одинаковое количество журавликов, а Катя сделала в два раза больше журавликов, чем Петя и Сережа вместе?\n",
    "# Выведите через пробел количество журавликов, сделанных Петей, Катей и Сережей.\n",
    "\n",
    "# Пример:\n",
    "# n = 6 -> 1 4 1  \n",
    "# n = 24 -> 4 16 4    \n",
    "# n = 60 -> 10 40 10\n"
   ]
  },
  {
   "cell_type": "code",
   "execution_count": 17,
   "metadata": {},
   "outputs": [
    {
     "name": "stdout",
     "output_type": "stream",
     "text": [
      "1 4 1\n"
     ]
    }
   ],
   "source": [
    "\n",
    "n = int(input()) # считываем количество журавликов\n",
    "\n",
    "# Петя и Сережа сделали одинаковое количество журавликов\n",
    "# пусть это количество будет x\n",
    "# тогда количество журавликов, сделанных Катей, будет 2*x ??\n",
    "\n",
    "x = n // 6 # находим общее количество журавликов, которое сделали Петя и Сережа\n",
    "# делим на 6, потому что всего у нас 3 ребенка и каждый делает по 2 журавлика (всего 6)\n",
    "\n",
    "print(x, 4*x, x) # выводим результаты: Петя и Сережа сделали x журавликов, Катя - 2*x, Петя - x"
   ]
  },
  {
   "cell_type": "markdown",
   "metadata": {},
   "source": [
    "# Счастливый билет\n",
    "# Инструкция по использованию платформы\n",
    "# Вы пользуетесь общественным транспортом? Вероятно, вы расплачивались за проезд и получали билет с номером.\n",
    "# Счастливым билетом называют такой билет с шестизначным номером, где сумма первых трех цифр равна сумме последних трех.\n",
    "# Т.е. билет с номером 385916 – счастливый, т.к. 3+8+5=9+1+6.\n",
    "# Вам требуется написать программу, которая проверяет счастливость билета с номером n и выводит на экран yes или no.\n",
    "\n",
    "# Пример:\n",
    "# n = 385916 -> yes\n",
    "# n = 123456 -> no\n",
    "\n"
   ]
  },
  {
   "cell_type": "code",
   "execution_count": 18,
   "metadata": {},
   "outputs": [
    {
     "name": "stdout",
     "output_type": "stream",
     "text": [
      "no\n"
     ]
    }
   ],
   "source": [
    "n = input() # считываем номер билета как строку\n",
    "n = str(n) \n",
    "# Эта ошибка возникает, когда мы пытаемся получить доступ к элементу списка или кортежа,\n",
    "# используя индексацию, но вместо этого передаем целочисленное значение. В данном случае, скорее всего,\n",
    "# переменная \"n\" является целочисленным значением, а не списком или кортежем. \n",
    "# Чтобы решить эту проблему, необходимо преобразовать переменную \"n\" в список или кортеж перед использованием индексации. \n",
    "sum1 = int(n[0]) + int(n[1]) + int(n[2])\n",
    "sum2 = int(n[3]) + int(n[4]) + int(n[5])\n",
    "\n",
    "if sum1 == sum2:\n",
    "    print(\"yes\")\n",
    "else:\n",
    "    print(\"no\")\n"
   ]
  },
  {
   "cell_type": "markdown",
   "metadata": {},
   "source": [
    "# Деление шоколадки\n",
    "# Инструкция по использованию платформы\n",
    "# Определите, можно ли от шоколадки размером a × b долек отломить c долек, если разрешается сделать один разлом по прямой между дольками (то есть разломить шоколадку на два прямоугольника).\n",
    "# Выведите yes или no соответственно.\n",
    "# done\n",
    "# Пример:\n",
    "# a, b, c = 3, 2, 4 -> yes\n",
    "# a, b, c = 3, 2, 1 -> no\n"
   ]
  },
  {
   "cell_type": "code",
   "execution_count": 5,
   "metadata": {},
   "outputs": [
    {
     "ename": "ValueError",
     "evalue": "not enough values to unpack (expected 3, got 1)",
     "output_type": "error",
     "traceback": [
      "\u001b[1;31m---------------------------------------------------------------------------\u001b[0m",
      "\u001b[1;31mValueError\u001b[0m                                Traceback (most recent call last)",
      "\u001b[1;32mc:\\Users\\a.aleksandrov.CORP\\Documents\\GitHub\\gb\\seminars\\Знакомство с языком Python (семинары)\\homework1.ipynb Cell 8\u001b[0m line \u001b[0;36m1\n\u001b[1;32m----> <a href='vscode-notebook-cell:/c%3A/Users/a.aleksandrov.CORP/Documents/GitHub/gb/seminars/%D0%97%D0%BD%D0%B0%D0%BA%D0%BE%D0%BC%D1%81%D1%82%D0%B2%D0%BE%20%D1%81%20%D1%8F%D0%B7%D1%8B%D0%BA%D0%BE%D0%BC%20Python%20%28%D1%81%D0%B5%D0%BC%D0%B8%D0%BD%D0%B0%D1%80%D1%8B%29/homework1.ipynb#X10sZmlsZQ%3D%3D?line=0'>1</a>\u001b[0m a, b, c \u001b[39m=\u001b[39m \u001b[39mmap\u001b[39m(\u001b[39mint\u001b[39m, \u001b[39minput\u001b[39m()\u001b[39m.\u001b[39msplit()) \u001b[39m# считываем размеры шоколадки и количество долек для отлома\u001b[39;00m\n\u001b[0;32m      <a href='vscode-notebook-cell:/c%3A/Users/a.aleksandrov.CORP/Documents/GitHub/gb/seminars/%D0%97%D0%BD%D0%B0%D0%BA%D0%BE%D0%BC%D1%81%D1%82%D0%B2%D0%BE%20%D1%81%20%D1%8F%D0%B7%D1%8B%D0%BA%D0%BE%D0%BC%20Python%20%28%D1%81%D0%B5%D0%BC%D0%B8%D0%BD%D0%B0%D1%80%D1%8B%29/homework1.ipynb#X10sZmlsZQ%3D%3D?line=1'>2</a>\u001b[0m \u001b[39mif\u001b[39;00m c \u001b[39m<\u001b[39m\u001b[39m=\u001b[39m a\u001b[39m*\u001b[39mb \u001b[39mand\u001b[39;00m (c \u001b[39m%\u001b[39m a \u001b[39m==\u001b[39m \u001b[39m0\u001b[39m \u001b[39mor\u001b[39;00m c \u001b[39m%\u001b[39m b \u001b[39m==\u001b[39m \u001b[39m0\u001b[39m):\n\u001b[0;32m      <a href='vscode-notebook-cell:/c%3A/Users/a.aleksandrov.CORP/Documents/GitHub/gb/seminars/%D0%97%D0%BD%D0%B0%D0%BA%D0%BE%D0%BC%D1%81%D1%82%D0%B2%D0%BE%20%D1%81%20%D1%8F%D0%B7%D1%8B%D0%BA%D0%BE%D0%BC%20Python%20%28%D1%81%D0%B5%D0%BC%D0%B8%D0%BD%D0%B0%D1%80%D1%8B%29/homework1.ipynb#X10sZmlsZQ%3D%3D?line=2'>3</a>\u001b[0m     \u001b[39mprint\u001b[39m(\u001b[39m\"\u001b[39m\u001b[39myes\u001b[39m\u001b[39m\"\u001b[39m)\n",
      "\u001b[1;31mValueError\u001b[0m: not enough values to unpack (expected 3, got 1)"
     ]
    }
   ],
   "source": [
    "\n",
    "a, b, c = map(int, input().split()) # считываем размеры шоколадки и количество долек для отлома\n",
    "if c <= a*b and (c % a == 0 or c % b == 0):\n",
    "    print(\"yes\")\n",
    "else:\n",
    "    print(\"no\")"
   ]
  }
 ],
 "metadata": {
  "kernelspec": {
   "display_name": "Python 3",
   "language": "python",
   "name": "python3"
  },
  "language_info": {
   "codemirror_mode": {
    "name": "ipython",
    "version": 3
   },
   "file_extension": ".py",
   "mimetype": "text/x-python",
   "name": "python",
   "nbconvert_exporter": "python",
   "pygments_lexer": "ipython3",
   "version": "3.11.4"
  },
  "orig_nbformat": 4
 },
 "nbformat": 4,
 "nbformat_minor": 2
}
